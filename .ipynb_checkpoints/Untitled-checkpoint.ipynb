{
 "cells": [
  {
   "cell_type": "code",
   "execution_count": 2,
   "metadata": {},
   "outputs": [],
   "source": [
    "from typing import List\n",
    "import numpy as np\n",
    "\n",
    "from pyquil import Program\n",
    "from pyquil.gates import MEASURE, H, I, CNOT\n",
    "from pyquil.quil import address_qubits\n",
    "from pyquil.quilatom import QubitPlaceholder\n",
    "from pyquil.api import QVMConnection\n",
    "qvm = QVMConnection(random_seed=1337)\n",
    "\n",
    "def bit_code(qubit: QubitPlaceholder, noise=None) -> (Program, List[QubitPlaceholder]):\n",
    "    \n",
    "    ### Do your encoding step here\n",
    "    q0 = QubitPlaceholder()\n",
    "    q1 = QubitPlaceholder()\n",
    "    a0 = QubitPlaceholder()\n",
    "    a1 = QubitPlaceholder()\n",
    "    code_register = [qubit, q0, q1, a0, a1]  # the List[QubitPlaceholder] of the qubits you have encoded into\n",
    "    pq = Program(CNOT(code_register[0], code_register[1]), CNOT(qubit, code_register[2]))\n",
    "    # the Program that does the encoding\n",
    "    \n",
    "    # DON'T CHANGE THIS CODE BLOCK. It applies the errors for simulations\n",
    "    if noise is None:\n",
    "        pq += [I(qq) for qq in code_register]\n",
    "    else:\n",
    "        pq += noise(code_register)\n",
    "\n",
    "\n",
    "    ### Do your decoding and correction steps here\n",
    "    flip = pq.declare('flip', 'BIT', 2)\n",
    "\n",
    "    pq += Program(CNOT(code_register[0], code_register[3]), CNOT(code_register[1], code_register[3]))\n",
    "    pq = pq + MEASURE(code_register[3], flip[0])\n",
    "\n",
    "    pq += Program(CNOT(code_register[1], code_register[4]), CNOT(code_register[2], code_register[4]))\n",
    "    pq = pq + MEASURE(code_register[4], flip[1])\n",
    "    \n",
    "    if flip[0] == 1 and flip[1] == 1:\n",
    "        pq += X(code_register[1])\n",
    "\n",
    "    elif flip[0] == 1 and flip[1] == 0:\n",
    "        pq += X(code_register[0])\n",
    "    \n",
    "    elif flip[0] == 0 and flip[1] == 1:\n",
    "        pq += X(code_register[2])\n",
    "\n",
    "    return pq, code_register"
   ]
  },
  {
   "cell_type": "code",
   "execution_count": 5,
   "metadata": {},
   "outputs": [],
   "source": [
    "q = QubitPlaceholder()"
   ]
  },
  {
   "cell_type": "code",
   "execution_count": 7,
   "metadata": {},
   "outputs": [
    {
     "name": "stdout",
     "output_type": "stream",
     "text": [
      "(<pyquil.quil.Program object at 0x10c35a438>, [<QubitPlaceholder 4499887720>, <QubitPlaceholder 4499648016>, <QubitPlaceholder 4499647344>, <QubitPlaceholder 4499647288>, <QubitPlaceholder 4499646784>])\n"
     ]
    }
   ],
   "source": [
    "phase_code(q)"
   ]
  },
  {
   "cell_type": "code",
   "execution_count": null,
   "metadata": {},
   "outputs": [],
   "source": []
  }
 ],
 "metadata": {
  "kernelspec": {
   "display_name": "Python 3",
   "language": "python",
   "name": "python3"
  }
 },
 "nbformat": 4,
 "nbformat_minor": 2
}
