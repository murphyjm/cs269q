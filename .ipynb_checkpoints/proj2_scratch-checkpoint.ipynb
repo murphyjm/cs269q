{
 "cells": [
  {
   "cell_type": "code",
   "execution_count": 19,
   "metadata": {},
   "outputs": [
    {
     "name": "stdout",
     "output_type": "stream",
     "text": [
      "The autoreload extension is already loaded. To reload it, use:\n",
      "  %reload_ext autoreload\n"
     ]
    }
   ],
   "source": [
    "import numpy as np\n",
    "\n",
    "from pyquil.paulis import PauliTerm, PauliSum\n",
    "from pyquil.api import WavefunctionSimulator\n",
    "\n",
    "from pyquil import Program\n",
    "from pyquil.gates import X, Y, Z, RX, RY, RZ\n",
    "\n",
    "# Plotting\n",
    "import matplotlib\n",
    "from matplotlib.ticker import MultipleLocator\n",
    "from matplotlib import rcParams\n",
    "import matplotlib.pyplot as plt\n",
    "rcParams[\"font.family\"] = \"serif\"\n",
    "rcParams[\"font.serif\"] = \"Times New Roman\"\n",
    "rcParams['text.usetex'] = True\n",
    "rcParams['text.latex.preamble'] = [r'\\usepackage{amsmath} \\usepackage{bm}']\n",
    "\n",
    "# Magic commands\n",
    "%matplotlib inline\n",
    "%config InlineBackend.figure_format = 'retina' # For high quality figures\n",
    "%load_ext autoreload\n",
    "%autoreload 2"
   ]
  },
  {
   "cell_type": "code",
   "execution_count": 11,
   "metadata": {},
   "outputs": [],
   "source": [
    "pauli_x = PauliTerm('X', 0)\n",
    "pauli_y = PauliTerm('Y', 1)\n",
    "pauli_z = PauliTerm('Z', 2)\n",
    "pauli_sum = PauliSum((pauli_x, pauli_y, pauli_z))"
   ]
  },
  {
   "cell_type": "code",
   "execution_count": 22,
   "metadata": {},
   "outputs": [],
   "source": [
    "p = Program()\n",
    "ro = p.declare('ro', 'BIT', 3)\n",
    "\n",
    "p += X(0)\n",
    "p += Y(1)\n",
    "p += Z(2)"
   ]
  },
  {
   "cell_type": "code",
   "execution_count": 24,
   "metadata": {},
   "outputs": [
    {
     "name": "stdout",
     "output_type": "stream",
     "text": [
      "DECLARE ro BIT[3]\n",
      "X 0\n",
      "Y 1\n",
      "Z 2\n",
      "\n"
     ]
    }
   ],
   "source": []
  },
  {
   "cell_type": "code",
   "execution_count": null,
   "metadata": {},
   "outputs": [],
   "source": []
  }
 ],
 "metadata": {
  "kernelspec": {
   "display_name": "Python 3",
   "language": "python",
   "name": "python3"
  },
  "language_info": {
   "codemirror_mode": {
    "name": "ipython",
    "version": 3
   },
   "file_extension": ".py",
   "mimetype": "text/x-python",
   "name": "python",
   "nbconvert_exporter": "python",
   "pygments_lexer": "ipython3",
   "version": "3.7.3"
  }
 },
 "nbformat": 4,
 "nbformat_minor": 2
}
