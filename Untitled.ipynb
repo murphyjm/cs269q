{
 "cells": [
  {
   "cell_type": "code",
   "execution_count": 11,
   "metadata": {},
   "outputs": [],
   "source": [
    "from typing import List\n",
    "import numpy as np\n",
    "\n",
    "from pyquil import Program\n",
    "from pyquil.gates import MEASURE, H, I, CNOT\n",
    "from pyquil.quil import address_qubits\n",
    "from pyquil.quilatom import QubitPlaceholder\n",
    "from pyquil.api import QVMConnection\n",
    "qvm = QVMConnection(random_seed=1337)\n",
    "\n",
    "def bit_code(qubit: QubitPlaceholder, noise=None) -> (Program, List[QubitPlaceholder]):\n",
    "    \n",
    "    ### Do your encoding step here\n",
    "    q0 = QubitPlaceholder()\n",
    "    q1 = QubitPlaceholder()\n",
    "    a0 = QubitPlaceholder()\n",
    "    a1 = QubitPlaceholder()\n",
    "    code_register = [qubit, q0, q1, a0, a1]  # the List[QubitPlaceholder] of the qubits you have encoded into\n",
    "    pq = Program(CNOT(code_register[0], code_register[1]), CNOT(qubit, code_register[2]))\n",
    "    # the Program that does the encoding\n",
    "    \n",
    "    # DON'T CHANGE THIS CODE BLOCK. It applies the errors for simulations\n",
    "    if noise is None:\n",
    "        pq += [I(qq) for qq in code_register]\n",
    "    else:\n",
    "        pq += noise(code_register)\n",
    "\n",
    "\n",
    "    ### Do your decoding and correction steps here\n",
    "    flip = pq.declare('flip', 'BIT', 2)\n",
    "\n",
    "    pq += Program(CNOT(code_register[0], code_register[3]), CNOT(code_register[1], code_register[3]))\n",
    "    pq = pq + MEASURE(code_register[3], flip[0])\n",
    "\n",
    "    pq += Program(CNOT(code_register[1], code_register[4]), CNOT(code_register[2], code_register[4]))\n",
    "    pq = pq + MEASURE(code_register[4], flip[1])\n",
    "    \n",
    "    if flip[0] == 1 and flip[1] == 1:\n",
    "        print(\"1,1\")\n",
    "        pq += X(code_register[1])\n",
    "\n",
    "    elif flip[0] == 1 and flip[1] == 0:\n",
    "        print(\"1,0\")\n",
    "        pq += X(code_register[0])\n",
    "    \n",
    "    elif flip[0] == 0 and flip[1] == 1:\n",
    "        print(\"0,1\")\n",
    "        pq += X(code_register[2])\n",
    "    \n",
    "    return pq, code_register"
   ]
  },
  {
   "cell_type": "code",
   "execution_count": 12,
   "metadata": {},
   "outputs": [],
   "source": [
    "q = QubitPlaceholder()"
   ]
  },
  {
   "cell_type": "code",
   "execution_count": 13,
   "metadata": {},
   "outputs": [
    {
     "data": {
      "text/plain": [
       "(<pyquil.quil.Program at 0xa1eb83390>,\n",
       " [<QubitPlaceholder 43464745760>,\n",
       "  <QubitPlaceholder 43464745816>,\n",
       "  <QubitPlaceholder 43464745424>,\n",
       "  <QubitPlaceholder 43464745480>,\n",
       "  <QubitPlaceholder 43464745032>])"
      ]
     },
     "execution_count": 13,
     "metadata": {},
     "output_type": "execute_result"
    }
   ],
   "source": [
    "phase_code(q)"
   ]
  },
  {
   "cell_type": "code",
   "execution_count": null,
   "metadata": {},
   "outputs": [],
   "source": []
  },
  {
   "cell_type": "code",
   "execution_count": null,
   "metadata": {},
   "outputs": [],
   "source": []
  }
 ],
 "metadata": {
  "kernelspec": {
   "display_name": "Python 3",
   "language": "python",
   "name": "python3"
  }
 },
 "nbformat": 4,
 "nbformat_minor": 2
}
